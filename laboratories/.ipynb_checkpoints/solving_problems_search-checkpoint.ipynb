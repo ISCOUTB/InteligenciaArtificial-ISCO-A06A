{
 "cells": [
  {
   "cell_type": "markdown",
   "id": "c53fd6df559037bf",
   "metadata": {},
   "source": [
    "# Solving problems by searching"
   ]
  },
  {
   "cell_type": "markdown",
   "id": "cb0c438572c89d75",
   "metadata": {},
   "source": [
    "## Búsqueda en Amplitud para el Problema del Laberinto (Breadth-First Search - BFS)"
   ]
  },
  {
   "cell_type": "markdown",
   "id": "a69e4abf4cac208a",
   "metadata": {},
   "source": [
    "El problema del laberinto implica encontrar un camino desde un punto de inicio hasta un objetivo en un laberinto. La búsqueda en amplitud es ideal para este problema, ya que explora todos los caminos posibles del punto de inicio simultáneamente hasta encontrar el objetivo."
   ]
  },
  {
   "cell_type": "code",
   "execution_count": 17,
   "id": "2ba2439dd79dd961",
   "metadata": {
    "ExecuteTime": {
     "end_time": "2024-02-15T02:59:55.667869400Z",
     "start_time": "2024-02-15T02:59:55.647987700Z"
    }
   },
   "outputs": [],
   "source": [
    "from typing import Dict, Tuple, List, Optional, Set\n",
    "import heapq"
   ]
  },
  {
   "cell_type": "code",
   "execution_count": 18,
   "id": "e53ceda79459bc17",
   "metadata": {
    "ExecuteTime": {
     "end_time": "2024-02-15T02:59:56.201023500Z",
     "start_time": "2024-02-15T02:59:56.178339200Z"
    }
   },
   "outputs": [],
   "source": [
    "def bfs(maze: List[List[int]], start: Tuple[int, int], goal: Tuple[int, int]) -> Optional[List[Tuple[int, int]]]:\n",
    "    \"\"\"\n",
    "    Realiza una búsqueda en amplitud para encontrar el camino más corto en un laberinto.\n",
    "\n",
    "    :param maze: Laberinto como una lista de listas de enteros, donde 0 es un espacio libre y 1 es un obstáculo.\n",
    "    :param start: Tupla que representa el punto de inicio (x, y).\n",
    "    :param goal: Tupla que representa el punto objetivo (x, y).\n",
    "    :return: Lista de tuplas representando el camino desde el inicio hasta el objetivo, o None si no hay camino.\n",
    "    \"\"\"\n",
    "    from collections import deque\n",
    "\n",
    "    queue = deque([[start]])\n",
    "    seen = set([start])\n",
    "    while queue:\n",
    "        path = queue.popleft()\n",
    "        x, y = path[-1]\n",
    "        if (x, y) == goal:\n",
    "            return path\n",
    "        for x2, y2 in ((x+1, y), (x-1, y), (x, y+1), (x, y-1)):\n",
    "            if 0 <= x2 < len(maze) and 0 <= y2 < len(maze[0]) and maze[x2][y2] == 0 and (x2, y2) not in seen:\n",
    "                queue.append(path + [(x2, y2)])\n",
    "                seen.add((x2, y2))\n",
    "    return None"
   ]
  },
  {
   "cell_type": "code",
   "execution_count": 19,
   "id": "a778e46daae6cd5",
   "metadata": {
    "ExecuteTime": {
     "end_time": "2024-02-15T02:59:56.663410500Z",
     "start_time": "2024-02-15T02:59:56.633604200Z"
    }
   },
   "outputs": [
    {
     "name": "stdout",
     "output_type": "stream",
     "text": [
      "[(0, 0), (1, 0), (2, 0), (3, 0), (4, 0), (4, 1), (4, 2), (4, 3), (4, 4)]\n"
     ]
    }
   ],
   "source": [
    "# Ejemplo de cómo utilizar la función con el caso de prueba\n",
    "maze = [\n",
    "    [0, 1, 0, 0, 0],\n",
    "    [0, 1, 0, 1, 0],\n",
    "    [0, 0, 0, 1, 0],\n",
    "    [0, 1, 1, 1, 0],\n",
    "    [0, 0, 0, 0, 0]\n",
    "]\n",
    "start = (0, 0)\n",
    "goal = (4, 4)\n",
    "print(bfs(maze, start, goal))"
   ]
  },
  {
   "cell_type": "markdown",
   "id": "963d4c73dac183a",
   "metadata": {},
   "source": [
    "## Búsqueda A* para el Problema del Camino Más Corto"
   ]
  },
  {
   "cell_type": "markdown",
   "id": "9cfd579229fee7ce",
   "metadata": {},
   "source": [
    "El algoritmo A* es útil para encontrar el camino más corto entre dos puntos. Combina aspectos de la búsqueda en amplitud con heurísticas para mejorar la eficiencia."
   ]
  },
  {
   "cell_type": "code",
   "execution_count": 20,
   "id": "5b8c8131c67293cb",
   "metadata": {
    "ExecuteTime": {
     "end_time": "2024-02-15T02:59:57.064084900Z",
     "start_time": "2024-02-15T02:59:57.046280500Z"
    }
   },
   "outputs": [],
   "source": [
    "def a_star_search(graph: Dict[str, Dict[str, int]], start: str, goal: str) -> Optional[Tuple[Dict[str, Optional[str]], Dict[str, int]]]:\n",
    "    \"\"\"\n",
    "    Realiza una búsqueda A* para encontrar el camino más corto entre dos nodos en un grafo ponderado.\n",
    "\n",
    "    :param graph: Grafo representado como un diccionario de diccionarios, donde las claves son los nodos y los valores son diccionarios de vecinos con sus costos.\n",
    "    :param start: Nodo de inicio.\n",
    "    :param goal: Nodo objetivo.\n",
    "    :return: Una tupla de dos diccionarios: el primero mapea nodos a sus predecesores, y el segundo mapea nodos a su costo desde el inicio.\n",
    "    \"\"\"\n",
    "    import heapq\n",
    "\n",
    "    priority_queue = []\n",
    "    heapq.heappush(priority_queue, (0, start))\n",
    "    came_from = {start: None}\n",
    "    cost_so_far = {start: 0}\n",
    "    while priority_queue:\n",
    "        _, current = heapq.heappop(priority_queue)\n",
    "        if current == goal:\n",
    "            break\n",
    "        for neighbor in graph[current]:\n",
    "            new_cost = cost_so_far[current] + graph[current][neighbor]\n",
    "            if neighbor not in cost_so_far or new_cost < cost_so_far[neighbor]:\n",
    "                cost_so_far[neighbor] = new_cost\n",
    "                priority = new_cost + heuristic(neighbor, goal)\n",
    "                heapq.heappush(priority_queue, (priority, neighbor))\n",
    "                came_from[neighbor] = current\n",
    "    return came_from, cost_so_far\n",
    "\n",
    "# Función heurística necesaria para A*\n",
    "def heuristic(node: str, goal: str) -> int:\n",
    "    # Implementación específica de la heurística (e.g., distancia Manhattan si los nodos tienen coordenadas)\n",
    "    return 1  # Simplificación para este ejemplo"
   ]
  },
  {
   "cell_type": "code",
   "execution_count": 21,
   "id": "8b88cced81de8a06",
   "metadata": {
    "ExecuteTime": {
     "end_time": "2024-02-15T02:59:57.368559200Z",
     "start_time": "2024-02-15T02:59:57.336561300Z"
    }
   },
   "outputs": [
    {
     "name": "stdout",
     "output_type": "stream",
     "text": [
      "{'A': None, 'B': 'A', 'C': 'A', 'D': 'B', 'E': 'B', 'F': 'E', 'G': 'F'} {'A': 0, 'B': 1, 'C': 3, 'D': 8, 'E': 6, 'F': 7, 'G': 9}\n"
     ]
    }
   ],
   "source": [
    "# Ejemplo de cómo utilizar la función con el caso de prueba\n",
    "graph = {\n",
    "    'A': {'B': 1, 'C': 3},\n",
    "    'B': {'A': 1, 'D': 7, 'E': 5},\n",
    "    'C': {'A': 3, 'F': 5},\n",
    "    'D': {'B': 7, 'E': 2},\n",
    "    'E': {'B': 5, 'D': 2, 'F': 1},\n",
    "    'F': {'C': 5, 'E': 1, 'G': 2},\n",
    "    'G': {'F': 2}\n",
    "}\n",
    "start = 'A'\n",
    "goal = 'G'\n",
    "came_from, cost_so_far = a_star_search(graph, start, goal)\n",
    "print(came_from, cost_so_far)"
   ]
  },
  {
   "cell_type": "markdown",
   "id": "f388784902910ea2",
   "metadata": {},
   "source": [
    "## Búsqueda por Profundidad (DFS) para el Problema de los Ocho Reinas"
   ]
  },
  {
   "cell_type": "markdown",
   "id": "e2b2be7b5a6f72d6",
   "metadata": {},
   "source": [
    "El problema de los ocho reinas implica colocar ocho reinas en un tablero de ajedrez de 8x8 de tal manera que ninguna reina esté atacando a las demás. La búsqueda por profundidad es una estrategia efectiva aquí, explorando posibles configuraciones de manera recursiva."
   ]
  },
  {
   "cell_type": "code",
   "execution_count": 31,
   "id": "95b84a34ade61002",
   "metadata": {
    "ExecuteTime": {
     "end_time": "2024-02-15T03:02:42.490760900Z",
     "start_time": "2024-02-15T03:02:42.463367600Z"
    }
   },
   "outputs": [],
   "source": [
    "def solve_queens(size: int = 8) -> List[List[int]]:\n",
    "    \"\"\"\n",
    "    Resuelve el problema de las N reinas, encontrando todas las disposiciones de las reinas en un tablero de ajedrez donde ninguna reina ataca a otra.\n",
    "\n",
    "    :param size: Tamaño del tablero de ajedrez (número de reinas).\n",
    "    :return: Lista de soluciones, donde cada solución es una lista de posiciones de las reinas.\n",
    "    \"\"\"\n",
    "    def is_safe(row: int, column: int, queens: List[int]) -> bool:\n",
    "        for r in range(row):\n",
    "            if queens[r] == column or \\\n",
    "               queens[r] - column == r - row or \\\n",
    "               queens[r] - column == row - r:\n",
    "                return False\n",
    "        return True\n",
    "\n",
    "    def dfs(row: int, queens: List[int]):\n",
    "        if row == size:\n",
    "            solutions.append(queens[:])\n",
    "            return\n",
    "        for col in range(size):\n",
    "            if is_safe(row, col, queens):\n",
    "                queens[row] = col\n",
    "                dfs(row + 1, queens)\n",
    "                queens[row] = -1  # Backtrack\n",
    "\n",
    "    solutions = []\n",
    "    dfs(0, [-1] * size)\n",
    "    return solutions"
   ]
  },
  {
   "cell_type": "code",
   "execution_count": 23,
   "id": "2d4eb0a02c34c3f9",
   "metadata": {
    "ExecuteTime": {
     "end_time": "2024-02-15T02:59:58.093914900Z",
     "start_time": "2024-02-15T02:59:58.069939600Z"
    }
   },
   "outputs": [
    {
     "name": "stdout",
     "output_type": "stream",
     "text": [
      "[[0, 4, 7, 5, 2, 6, 1, 3], [0, 5, 7, 2, 6, 3, 1, 4], [0, 6, 3, 5, 7, 1, 4, 2], [0, 6, 4, 7, 1, 3, 5, 2], [1, 3, 5, 7, 2, 0, 6, 4], [1, 4, 6, 0, 2, 7, 5, 3], [1, 4, 6, 3, 0, 7, 5, 2], [1, 5, 0, 6, 3, 7, 2, 4], [1, 5, 7, 2, 0, 3, 6, 4], [1, 6, 2, 5, 7, 4, 0, 3], [1, 6, 4, 7, 0, 3, 5, 2], [1, 7, 5, 0, 2, 4, 6, 3], [2, 0, 6, 4, 7, 1, 3, 5], [2, 4, 1, 7, 0, 6, 3, 5], [2, 4, 1, 7, 5, 3, 6, 0], [2, 4, 6, 0, 3, 1, 7, 5], [2, 4, 7, 3, 0, 6, 1, 5], [2, 5, 1, 4, 7, 0, 6, 3], [2, 5, 1, 6, 0, 3, 7, 4], [2, 5, 1, 6, 4, 0, 7, 3], [2, 5, 3, 0, 7, 4, 6, 1], [2, 5, 3, 1, 7, 4, 6, 0], [2, 5, 7, 0, 3, 6, 4, 1], [2, 5, 7, 0, 4, 6, 1, 3], [2, 5, 7, 1, 3, 0, 6, 4], [2, 6, 1, 7, 4, 0, 3, 5], [2, 6, 1, 7, 5, 3, 0, 4], [2, 7, 3, 6, 0, 5, 1, 4], [3, 0, 4, 7, 1, 6, 2, 5], [3, 0, 4, 7, 5, 2, 6, 1], [3, 1, 4, 7, 5, 0, 2, 6], [3, 1, 6, 2, 5, 7, 0, 4], [3, 1, 6, 2, 5, 7, 4, 0], [3, 1, 6, 4, 0, 7, 5, 2], [3, 1, 7, 4, 6, 0, 2, 5], [3, 1, 7, 5, 0, 2, 4, 6], [3, 5, 0, 4, 1, 7, 2, 6], [3, 5, 7, 1, 6, 0, 2, 4], [3, 5, 7, 2, 0, 6, 4, 1], [3, 6, 0, 7, 4, 1, 5, 2], [3, 6, 2, 7, 1, 4, 0, 5], [3, 6, 4, 1, 5, 0, 2, 7], [3, 6, 4, 2, 0, 5, 7, 1], [3, 7, 0, 2, 5, 1, 6, 4], [3, 7, 0, 4, 6, 1, 5, 2], [3, 7, 4, 2, 0, 6, 1, 5], [4, 0, 3, 5, 7, 1, 6, 2], [4, 0, 7, 3, 1, 6, 2, 5], [4, 0, 7, 5, 2, 6, 1, 3], [4, 1, 3, 5, 7, 2, 0, 6], [4, 1, 3, 6, 2, 7, 5, 0], [4, 1, 5, 0, 6, 3, 7, 2], [4, 1, 7, 0, 3, 6, 2, 5], [4, 2, 0, 5, 7, 1, 3, 6], [4, 2, 0, 6, 1, 7, 5, 3], [4, 2, 7, 3, 6, 0, 5, 1], [4, 6, 0, 2, 7, 5, 3, 1], [4, 6, 0, 3, 1, 7, 5, 2], [4, 6, 1, 3, 7, 0, 2, 5], [4, 6, 1, 5, 2, 0, 3, 7], [4, 6, 1, 5, 2, 0, 7, 3], [4, 6, 3, 0, 2, 7, 5, 1], [4, 7, 3, 0, 2, 5, 1, 6], [4, 7, 3, 0, 6, 1, 5, 2], [5, 0, 4, 1, 7, 2, 6, 3], [5, 1, 6, 0, 2, 4, 7, 3], [5, 1, 6, 0, 3, 7, 4, 2], [5, 2, 0, 6, 4, 7, 1, 3], [5, 2, 0, 7, 3, 1, 6, 4], [5, 2, 0, 7, 4, 1, 3, 6], [5, 2, 4, 6, 0, 3, 1, 7], [5, 2, 4, 7, 0, 3, 1, 6], [5, 2, 6, 1, 3, 7, 0, 4], [5, 2, 6, 1, 7, 4, 0, 3], [5, 2, 6, 3, 0, 7, 1, 4], [5, 3, 0, 4, 7, 1, 6, 2], [5, 3, 1, 7, 4, 6, 0, 2], [5, 3, 6, 0, 2, 4, 1, 7], [5, 3, 6, 0, 7, 1, 4, 2], [5, 7, 1, 3, 0, 6, 4, 2], [6, 0, 2, 7, 5, 3, 1, 4], [6, 1, 3, 0, 7, 4, 2, 5], [6, 1, 5, 2, 0, 3, 7, 4], [6, 2, 0, 5, 7, 4, 1, 3], [6, 2, 7, 1, 4, 0, 5, 3], [6, 3, 1, 4, 7, 0, 2, 5], [6, 3, 1, 7, 5, 0, 2, 4], [6, 4, 2, 0, 5, 7, 1, 3], [7, 1, 3, 0, 6, 4, 2, 5], [7, 1, 4, 2, 0, 6, 3, 5], [7, 2, 0, 5, 1, 4, 6, 3], [7, 3, 0, 2, 5, 1, 6, 4]]\n"
     ]
    }
   ],
   "source": [
    "# Ejemplo de cómo utilizar la función\n",
    "print(solve_queens(8))"
   ]
  },
  {
   "cell_type": "markdown",
   "id": "75a83d3d1ad39173",
   "metadata": {},
   "source": [
    " ## Búsqueda Bidireccional para Encontrar el Camino Más Corto"
   ]
  },
  {
   "cell_type": "markdown",
   "id": "f172acc500237ffd",
   "metadata": {},
   "source": [
    "La búsqueda bidireccional se ejecuta simultáneamente desde el nodo inicial y el nodo objetivo hasta que ambas búsquedas se encuentran. Esto puede reducir significativamente el espacio de búsqueda necesario y es útil para encontrar el camino más corto en un grafo."
   ]
  },
  {
   "cell_type": "code",
   "execution_count": 32,
   "id": "f035a7f9f93b1404",
   "metadata": {
    "ExecuteTime": {
     "end_time": "2024-02-15T03:03:09.359371100Z",
     "start_time": "2024-02-15T03:03:09.342831300Z"
    }
   },
   "outputs": [],
   "source": [
    "def bidirectional_search(graph: Dict[str, List[str]], start: str, goal: str) -> Optional[List[str]]:\n",
    "    \"\"\"\n",
    "    Realiza una búsqueda bidireccional en un grafo para encontrar el camino más corto entre dos nodos.\n",
    "\n",
    "    :param graph: Grafo representado como un diccionario de listas de adyacencia.\n",
    "    :param start: Nodo de inicio.\n",
    "    :param goal: Nodo objetivo.\n",
    "    :return: Lista de nodos representando el camino desde el inicio hasta el objetivo, o None si no hay camino.\n",
    "    \"\"\"\n",
    "    from collections import deque\n",
    "\n",
    "    def bfs(queue: deque, visited: Dict[str, List[str]], other_visited: Dict[str, List[str]]) -> Optional[List[str]]:\n",
    "        if not queue:\n",
    "            return None\n",
    "        current, path = queue.popleft()\n",
    "        for neighbor in graph[current]:\n",
    "            if neighbor in other_visited:\n",
    "                return path + other_visited[neighbor][::-1]  # Combina los caminos y los invierte\n",
    "            if neighbor not in visited:\n",
    "                visited[neighbor] = path + [neighbor]\n",
    "                queue.append((neighbor, path + [neighbor]))\n",
    "        return None\n",
    "\n",
    "    queue_start = deque([(start, [start])])\n",
    "    queue_goal = deque([(goal, [goal])])\n",
    "    visited_start = {start: [start]}\n",
    "    visited_goal = {goal: [goal]}\n",
    "    while queue_start and queue_goal:\n",
    "        result = bfs(queue_start, visited_start, visited_goal)\n",
    "        if result:\n",
    "            return result\n",
    "        result = bfs(queue_goal, visited_goal, visited_start)\n",
    "        if result:\n",
    "            return result[::-1]  # Asegura que el camino esté correctamente orientado\n",
    "    return None\n",
    "\n",
    "\n"
   ]
  },
  {
   "cell_type": "code",
   "execution_count": 25,
   "id": "d20fd28b5245b7e4",
   "metadata": {
    "ExecuteTime": {
     "end_time": "2024-02-15T03:00:00.634265200Z",
     "start_time": "2024-02-15T03:00:00.603362900Z"
    }
   },
   "outputs": [
    {
     "name": "stdout",
     "output_type": "stream",
     "text": [
      "['A', 'C', 'F', 'G']\n"
     ]
    }
   ],
   "source": [
    "# Ejemplo de cómo utilizar la función con el caso de prueba\n",
    "graph = {\n",
    "    'A': ['B', 'C'],\n",
    "    'B': ['A', 'D', 'E'],\n",
    "    'C': ['A', 'F'],\n",
    "    'D': ['B'],\n",
    "    'E': ['B', 'F'],\n",
    "    'F': ['C', 'E', 'G'],\n",
    "    'G': ['F']\n",
    "}\n",
    "start = 'A'\n",
    "goal = 'G'\n",
    "print(bidirectional_search(graph, start, goal))"
   ]
  },
  {
   "cell_type": "markdown",
   "id": "f51a2e9b93a60a60",
   "metadata": {},
   "source": [
    "## Algoritmo Greedy Best-First Search para Problemas de Navegación"
   ]
  },
  {
   "cell_type": "markdown",
   "id": "a779742861c83f33",
   "metadata": {},
   "source": [
    "El algoritmo Greedy Best-First utiliza una función heurística para guiar su búsqueda hacia el objetivo, escogiendo el nodo que parece más prometedor en cada paso. No garantiza la solución más corta, pero es eficiente en términos de tiempo y memoria."
   ]
  },
  {
   "cell_type": "code",
   "execution_count": 33,
   "id": "de42a4b706c0989",
   "metadata": {
    "ExecuteTime": {
     "end_time": "2024-02-15T03:03:29.180292200Z",
     "start_time": "2024-02-15T03:03:29.153662200Z"
    }
   },
   "outputs": [],
   "source": [
    "def greedy_best_first_search(graph: Dict[str, Dict[str, int]], start: str, goal: str, heuristic: Dict[str, int]) -> Optional[List[str]]:\n",
    "    \"\"\"\n",
    "    Realiza una búsqueda Greedy Best-First en un grafo para encontrar un camino hasta un nodo objetivo.\n",
    "\n",
    "    :param graph: Grafo representado como un diccionario de diccionarios, donde las claves son nodos y los valores son diccionarios de vecinos con sus costos.\n",
    "    :param start: Nodo de inicio.\n",
    "    :param goal: Nodo objetivo.\n",
    "    :param heuristic: Diccionario que mapea cada nodo a su valor heurístico respecto al objetivo.\n",
    "    :return: Lista de nodos representando el camino desde el inicio hasta el objetivo, o None si no hay camino.\n",
    "    \"\"\"\n",
    "    priority_queue = [(heuristic[start], start, [start])]\n",
    "    visited = set()\n",
    "\n",
    "    while priority_queue:\n",
    "        _, current, path = heapq.heappop(priority_queue)\n",
    "        if current in visited:\n",
    "            continue\n",
    "        visited.add(current)\n",
    "        if current == goal:\n",
    "            return path\n",
    "        for neighbor, cost in graph[current].items():\n",
    "            if neighbor not in visited:\n",
    "                heapq.heappush(priority_queue, (heuristic[neighbor], neighbor, path + [neighbor]))\n",
    "    return None"
   ]
  },
  {
   "cell_type": "code",
   "execution_count": 34,
   "id": "d4023b065d1df972",
   "metadata": {
    "ExecuteTime": {
     "end_time": "2024-02-15T03:03:29.967705500Z",
     "start_time": "2024-02-15T03:03:29.921906400Z"
    }
   },
   "outputs": [
    {
     "name": "stdout",
     "output_type": "stream",
     "text": [
      "['A', 'C', 'F', 'G']\n"
     ]
    }
   ],
   "source": [
    "# Ejemplo de cómo utilizar la función con el caso de prueba\n",
    "graph = {\n",
    "    'A': {'B': 2, 'C': 4},\n",
    "    'B': {'A': 2, 'D': 5, 'E': 12},\n",
    "    'C': {'A': 4, 'F': 14},\n",
    "    'D': {'B': 5, 'G': 3},\n",
    "    'E': {'B': 12, 'G': 9, 'F': 1},\n",
    "    'F': {'C': 14, 'E': 1, 'G': 7},\n",
    "    'G': {'D': 3, 'E': 9, 'F': 7}\n",
    "}\n",
    "start = 'A'\n",
    "goal = 'G'\n",
    "heuristic = {'A': 7, 'B': 6, 'C': 2, 'D': 3, 'E': 3, 'F': 1, 'G': 0}\n",
    "path = greedy_best_first_search(graph, start, goal, heuristic)\n",
    "print(path)"
   ]
  },
  {
   "cell_type": "markdown",
   "id": "74e4d373a60c26f8",
   "metadata": {},
   "source": [
    "## Búsqueda por Costo Uniforme para el Problema de Rutas de Transporte"
   ]
  },
  {
   "cell_type": "markdown",
   "id": "4abe2e4e6ff43772",
   "metadata": {},
   "source": [
    "La búsqueda por costo uniforme es útil para encontrar el camino de costo mínimo entre dos puntos en un grafo donde las aristas tienen diferentes costos. Extiende la búsqueda en amplitud para tener en cuenta el costo acumulado de llegar a cada nodo."
   ]
  },
  {
   "cell_type": "code",
   "execution_count": 29,
   "id": "d5dd81311fb8b7a2",
   "metadata": {
    "ExecuteTime": {
     "end_time": "2024-02-15T03:01:07.475434100Z",
     "start_time": "2024-02-15T03:01:07.456959400Z"
    }
   },
   "outputs": [],
   "source": [
    "def uniform_cost_search(graph: Dict[str, Dict[str, int]], start: str, goal: str) -> Optional[Tuple[List[str], int]]:\n",
    "    \"\"\"\n",
    "    Realiza una búsqueda por costo uniforme para encontrar el camino de costo mínimo entre dos nodos en un grafo.\n",
    "\n",
    "    :param graph: Grafo representado como un diccionario de diccionarios, con nodos y costos de aristas.\n",
    "    :param start: Nodo de inicio.\n",
    "    :param goal: Nodo objetivo.\n",
    "    :return: Tupla que contiene la lista de nodos representando el camino más corto y el costo total, o None si no hay camino.\n",
    "    \"\"\"\n",
    "    priority_queue = [(0, start, [start])]\n",
    "    visited = set()\n",
    "\n",
    "    while priority_queue:\n",
    "        (cost, current, path) = heapq.heappop(priority_queue)\n",
    "        if current in visited:\n",
    "            continue\n",
    "        if current == goal:\n",
    "            return (path, cost)\n",
    "        visited.add(current)\n",
    "        for neighbor, weight in graph[current].items():\n",
    "            if neighbor not in visited:\n",
    "                heapq.heappush(priority_queue, (cost + weight, neighbor, path + [neighbor]))\n",
    "    return None"
   ]
  },
  {
   "cell_type": "code",
   "execution_count": 30,
   "id": "9cdcefd498c43d29",
   "metadata": {
    "ExecuteTime": {
     "end_time": "2024-02-15T03:01:09.129806300Z",
     "start_time": "2024-02-15T03:01:09.100555Z"
    }
   },
   "outputs": [
    {
     "name": "stdout",
     "output_type": "stream",
     "text": [
      "Path: ['A', 'B', 'D', 'E', 'F', 'G'], Cost: 9\n"
     ]
    }
   ],
   "source": [
    "# Ejemplo de cómo utilizar la función con el caso de prueba\n",
    "graph = {\n",
    "    'A': {'B': 1, 'C': 4},\n",
    "    'B': {'A': 1, 'D': 2, 'E': 5},\n",
    "    'C': {'A': 4, 'F': 11},\n",
    "    'D': {'B': 2, 'E': 1},\n",
    "    'E': {'B': 5, 'D': 1, 'F': 3},\n",
    "    'F': {'C': 11, 'E': 3, 'G': 2},\n",
    "    'G': {'F': 2}\n",
    "}\n",
    "start = 'A'\n",
    "goal = 'G'\n",
    "path, cost = uniform_cost_search(graph, start, goal)\n",
    "print(f\"Path: {path}, Cost: {cost}\")"
   ]
  },
  {
   "cell_type": "code",
   "execution_count": null,
   "id": "3c76731e24d0bdde",
   "metadata": {},
   "outputs": [],
   "source": []
  }
 ],
 "metadata": {
  "kernelspec": {
   "display_name": "Python 3 (ipykernel)",
   "language": "python",
   "name": "python3"
  },
  "language_info": {
   "codemirror_mode": {
    "name": "ipython",
    "version": 3
   },
   "file_extension": ".py",
   "mimetype": "text/x-python",
   "name": "python",
   "nbconvert_exporter": "python",
   "pygments_lexer": "ipython3",
   "version": "3.11.7"
  }
 },
 "nbformat": 4,
 "nbformat_minor": 5
}

{
 "cells": [
  {
   "cell_type": "markdown",
   "metadata": {
    "id": "SDQUmLtbd0D3"
   },
   "source": [
    "# BERT (Bidirectional Encoder Representations from Transformers)"
   ]
  },
  {
   "cell_type": "markdown",
   "metadata": {},
   "source": [
    "## Question-Answering"
   ]
  },
  {
   "cell_type": "code",
   "execution_count": null,
   "metadata": {
    "ExecuteTime": {
     "end_time": "2024-05-17T14:26:04.761561Z",
     "start_time": "2024-05-17T14:25:47.021547Z"
    },
    "id": "LLVomSZqMCBD"
   },
   "outputs": [],
   "source": [
    "#!pip install transformers"
   ]
  },
  {
   "cell_type": "code",
   "execution_count": null,
   "metadata": {
    "id": "p4gGmgPMQsZh"
   },
   "outputs": [],
   "source": [
    "from transformers import AutoTokenizer, AutoModelForQuestionAnswering, pipeline\n",
    "the_model = 'mrm8488/distill-bert-base-spanish-wwm-cased-finetuned-spa-squad2-es'\n",
    "tokenizer = AutoTokenizer.from_pretrained(the_model, do_lower_case=False)\n",
    "model = AutoModelForQuestionAnswering.from_pretrained(the_model)"
   ]
  },
  {
   "cell_type": "code",
   "execution_count": null,
   "metadata": {
    "colab": {
     "base_uri": "https://localhost:8080/"
    },
    "id": "jokmyxjASRH6",
    "outputId": "1cd9bf04-d510-45dd-9e51-d14f939c3237"
   },
   "outputs": [],
   "source": [
    "print(model)"
   ]
  },
  {
   "cell_type": "code",
   "execution_count": null,
   "metadata": {
    "colab": {
     "base_uri": "https://localhost:8080/"
    },
    "id": "mrxAr-JeSum6",
    "outputId": "50509f49-c5eb-487a-9f9f-0394bdf5e79e"
   },
   "outputs": [],
   "source": [
    "# como funciona la tokenizacion\n",
    "contexto = \" Yo soy Edwin Puertas \"\n",
    "pregunta = \"¿ Como me llamo ?\"\n",
    "\n",
    "encode = tokenizer.encode_plus(pregunta, contexto, return_tensors=\"pt\")\n",
    "input_ids= encode [\"input_ids\"]\n",
    "tokens= tokenizer.convert_ids_to_tokens(input_ids[0])\n",
    "for  id, token in zip (input_ids[0], tokens):\n",
    "  print(\"{:<12} {:>6}\".format(token, id))\n",
    "  print(\"\")"
   ]
  },
  {
   "cell_type": "code",
   "execution_count": null,
   "metadata": {
    "colab": {
     "base_uri": "https://localhost:8080/"
    },
    "id": "WkvBWkAYWXNg",
    "outputId": "d6edef84-9344-4b62-c336-d8b24fa49186"
   },
   "outputs": [],
   "source": [
    "# Ejemplo pregunta respuesta\n",
    "nlp = pipeline(\"question-answering\", model=model, tokenizer=tokenizer)\n",
    "salida = nlp({\"question\": pregunta, \"context\":contexto})\n",
    "print(salida)"
   ]
  },
  {
   "cell_type": "code",
   "execution_count": null,
   "metadata": {
    "id": "hawFgMcHZDpe"
   },
   "outputs": [],
   "source": [
    "from textwrap import wrap\n",
    "\n",
    "def pregunta_respuesta(model, contexto, nlp):\n",
    "\n",
    "  # Imprimir contexto\n",
    "  print('Contexto:')\n",
    "  print('-----------------')\n",
    "  print('\\n'.join(wrap(contexto)))\n",
    "\n",
    "  # Loop preguntas-respuestas:\n",
    "  continuar = True\n",
    "  while continuar:\n",
    "    print('\\nPregunta:')\n",
    "    print('-----------------')\n",
    "    pregunta = str(input())\n",
    "\n",
    "    continuar = pregunta!=''\n",
    "\n",
    "    if continuar:\n",
    "      salida = nlp({'question':pregunta, 'context':contexto})\n",
    "      print('\\nRespuesta:')\n",
    "      print('-----------------')\n",
    "      print(salida['answer'])"
   ]
  },
  {
   "cell_type": "code",
   "execution_count": null,
   "metadata": {
    "id": "Ac7YqpvHd5td"
   },
   "outputs": [],
   "source": [
    "pregunta_respuesta(model, contexto, nlp)"
   ]
  },
  {
   "cell_type": "code",
   "execution_count": null,
   "metadata": {
    "colab": {
     "background_save": true,
     "base_uri": "https://localhost:8080/"
    },
    "id": "QJdZuTdTjFff",
    "outputId": "ac8ac5a5-a86e-4031-fb47-eed4a314f377"
   },
   "outputs": [],
   "source": [
    "contexto = \"Avengers: Endgame (Vengadores: Endgame en España)2​ es una película de superhéroes estadounidense de 2019 basada en el equipo de superhéroes Los Vengadores de Marvel Comics. Producida por Marvel Studios y distribuida por Walt Disney Studios Motion Pictures, es la secuela directa de Avengers: Infinity War (2018) y la película número 22 del Universo cinematográfico de Marvel (UCM), y hasta la fecha la más larga. Dirigida por Anthony y Joe Russo y escrita por Christopher Markus y Stephen McFeely, la película cuenta con un reparto coral que incluye a Robert Downey Jr., Chris Evans, Mark Ruffalo, Chris Hemsworth, Scarlett Johansson, Jeremy Renner, Don Cheadle, Paul Rudd, Brie Larson, Karen Gillan, Danai Gurira, Benedict Wong, Jon Favreau, Bradley Cooper, Gwyneth Paltrow y Josh Brolin. En la película, los miembros supervivientes de Los Vengadores y sus aliados intentan revertir el daño causado por Thanos en Infinity War.\"\n",
    "pregunta_respuesta(model, contexto, nlp)"
   ]
  },
  {
   "cell_type": "code",
   "execution_count": null,
   "metadata": {},
   "outputs": [],
   "source": []
  }
 ],
 "metadata": {
  "colab": {
   "provenance": []
  },
  "kernelspec": {
   "display_name": "Python 3 (ipykernel)",
   "language": "python",
   "name": "python3"
  },
  "language_info": {
   "codemirror_mode": {
    "name": "ipython",
    "version": 3
   },
   "file_extension": ".py",
   "mimetype": "text/x-python",
   "name": "python",
   "nbconvert_exporter": "python",
   "pygments_lexer": "ipython3",
   "version": "3.11.7"
  }
 },
 "nbformat": 4,
 "nbformat_minor": 1
}

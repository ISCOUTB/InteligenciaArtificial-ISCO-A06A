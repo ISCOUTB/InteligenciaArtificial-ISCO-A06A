{
 "cells": [
  {
   "cell_type": "markdown",
   "id": "b68620b4",
   "metadata": {},
   "source": [
    "# Online datalog tutorial"
   ]
  },
  {
   "cell_type": "markdown",
   "id": "7cae53eb",
   "metadata": {},
   "source": [
    "pyDatalog is a powerful language with very few syntactic elements, mostly coming from Python : this makes it easy to learn !  In this tutorial, we'll review:\n",
    "\n",
    "* Variables and expressions\n",
    "* Loops\n",
    "* Logic Functions and dictionaries\n",
    "* Aggregate functions\n",
    "* Literals and sets\n",
    "* Tree, graphs and recursive algorithms\n",
    "* 8-queen problem\n",
    "\n",
    "We'll see that pyDatalog statements are declarative : they describe the result we want, leaving to the computer the task of finding the appropriate solutions.  We'll start with trivial problems to show the basics of the language, and progressively address more complex problems, to show how simply they can be expressed. We'll finish with an efficient solution to the 8-queen problem.\n",
    "\n",
    "The first step is to import pyDatalog:"
   ]
  },
  {
   "cell_type": "code",
   "execution_count": 5,
   "id": "28887e96",
   "metadata": {
    "collapsed": false,
    "jupyter": {
     "outputs_hidden": false
    }
   },
   "outputs": [],
   "source": [
    "from pyDatalog import pyDatalog"
   ]
  },
  {
   "cell_type": "markdown",
   "id": "26204be3",
   "metadata": {},
   "source": [
    "<h2>Variables and expressions</h2>\n",
    "\n",
    "The next step is to declare the variables we'll use.  They must start with an upper-case letter:"
   ]
  },
  {
   "cell_type": "code",
   "execution_count": 8,
   "id": "d72b69be",
   "metadata": {
    "collapsed": false,
    "jupyter": {
     "outputs_hidden": false
    }
   },
   "outputs": [],
   "source": [
    "pyDatalog.create_terms('X,Y')"
   ]
  },
  {
   "cell_type": "markdown",
   "id": "9cca007d",
   "metadata": {},
   "source": [
    "Variables appear in logic queries, which return a printable result"
   ]
  },
  {
   "cell_type": "code",
   "execution_count": 11,
   "id": "be5a0b92",
   "metadata": {
    "collapsed": false,
    "jupyter": {
     "outputs_hidden": false
    }
   },
   "outputs": [
    {
     "name": "stdout",
     "output_type": "stream",
     "text": [
      "X\n",
      "-\n",
      "1\n"
     ]
    }
   ],
   "source": [
    "# give me all the X so that X is 1\n",
    "print(X==1)"
   ]
  },
  {
   "cell_type": "markdown",
   "id": "087ee956",
   "metadata": {},
   "source": [
    "Queries can contain several variables and several criteria ('<scope>&</scope>' is read 'and'):"
   ]
  },
  {
   "cell_type": "code",
   "execution_count": 14,
   "id": "f74c7413",
   "metadata": {
    "collapsed": false,
    "jupyter": {
     "outputs_hidden": false
    }
   },
   "outputs": [
    {
     "name": "stdout",
     "output_type": "stream",
     "text": [
      "X    | Y    \n",
      "-----|------\n",
      "True | False\n"
     ]
    }
   ],
   "source": [
    "# give me all the X and Y so that X is True and Y is False\n",
    "print((X==True) & (Y==False))"
   ]
  },
  {
   "cell_type": "markdown",
   "id": "4de53f1b",
   "metadata": {},
   "source": [
    "Note the parenthesis around each equality: they are required to avoid confusion with ```(X==(True & Y)==False)```."
   ]
  },
  {
   "cell_type": "markdown",
   "id": "0c6e7ed5",
   "metadata": {},
   "source": [
    "Some queries return an empty result :"
   ]
  },
  {
   "cell_type": "code",
   "execution_count": 18,
   "id": "2b5a367a",
   "metadata": {
    "collapsed": false,
    "jupyter": {
     "outputs_hidden": false
    }
   },
   "outputs": [
    {
     "name": "stdout",
     "output_type": "stream",
     "text": [
      "[]\n"
     ]
    }
   ],
   "source": [
    "# give me all the X that are both True and False\n",
    "print((X==True) & (X==False))"
   ]
  },
  {
   "cell_type": "markdown",
   "id": "53892dab",
   "metadata": {},
   "source": [
    "Besides numbers and booleans, variables can represent strings.  Furthermore, queries can contain python expressions:"
   ]
  },
  {
   "cell_type": "code",
   "execution_count": 33,
   "id": "b59f3637",
   "metadata": {
    "collapsed": false,
    "jupyter": {
     "outputs_hidden": false
    }
   },
   "outputs": [
    {
     "name": "stdin",
     "output_type": "stream",
     "text": [
      "Please enter your name :  Edwin Puertas\n"
     ]
    },
    {
     "name": "stdout",
     "output_type": "stream",
     "text": [
      "X             | Y      \n",
      "--------------|--------\n",
      "Edwin Puertas | Hello E\n"
     ]
    }
   ],
   "source": [
    "# give me all the X and Y so that X is a name and Y is 'Hello ' followed by the first letter of X\n",
    "print((X==input('Please enter your name : ')) & (Y=='Hello ' + X[0]))"
   ]
  },
  {
   "cell_type": "markdown",
   "id": "d49ca48b",
   "metadata": {},
   "source": [
    "In the second equality, X is said to be bound by the first equality, i.e. the first equality gives it a value, making it possible to evaluate the expression in the second equality.\n",
    "\n",
    "pyDatalog has no symbolic resolver ! If a variable in an expression is not bound, the query returns an empty solution :"
   ]
  },
  {
   "cell_type": "code",
   "execution_count": 35,
   "id": "3b2a9d26",
   "metadata": {
    "collapsed": false,
    "jupyter": {
     "outputs_hidden": false
    }
   },
   "outputs": [
    {
     "name": "stdout",
     "output_type": "stream",
     "text": [
      "[]\n"
     ]
    }
   ],
   "source": [
    "# give me all the X and Y so that Y is 1 and Y is X+1\n",
    "print((Y==1) & (Y==X+1))"
   ]
  },
  {
   "cell_type": "markdown",
   "id": "5838682a",
   "metadata": {},
   "source": [
    "Variables can also represent (nested) [tuples](http://docs.python.org/2/tutorial/datastructures.html#tuples-and-sequences), which can participate in an expression and be [sliced](http://stackoverflow.com/questions/509211/pythons-slice-notation)."
   ]
  },
  {
   "cell_type": "code",
   "execution_count": 38,
   "id": "14f32e39",
   "metadata": {
    "collapsed": false,
    "jupyter": {
     "outputs_hidden": false
    }
   },
   "outputs": [
    {
     "name": "stdout",
     "output_type": "stream",
     "text": [
      "X         | Y\n",
      "----------|--\n",
      "(1, 2, 3) | 3\n"
     ]
    }
   ],
   "source": [
    "print((X==(1,2)+(3,)) & (Y==X[2]))"
   ]
  },
  {
   "cell_type": "markdown",
   "id": "5a308711",
   "metadata": {},
   "source": [
    "To use your own functions in logic expressions, define them in Python, then ask pyDatalog to create logical terms for them:"
   ]
  },
  {
   "cell_type": "code",
   "execution_count": 41,
   "id": "a9751e7e",
   "metadata": {
    "collapsed": false,
    "jupyter": {
     "outputs_hidden": false
    }
   },
   "outputs": [
    {
     "name": "stdout",
     "output_type": "stream",
     "text": [
      "X | Y\n",
      "--|--\n",
      "1 | 2\n"
     ]
    }
   ],
   "source": [
    "def twice(a):\n",
    "    return a+a\n",
    "\n",
    "pyDatalog.create_terms('twice')\n",
    "print((X==1) & (Y==twice(X)))"
   ]
  },
  {
   "cell_type": "markdown",
   "id": "722bd584",
   "metadata": {},
   "source": [
    "Note that X must be bound before calling the function.\n",
    "\n",
    "Similarly, pyDatalog variables can be passed to functions in the Python standard library:"
   ]
  },
  {
   "cell_type": "markdown",
   "id": "b5c223ef",
   "metadata": {},
   "source": [
    "<h2>Loops</h2>\n",
    "\n",
    "Let's first declare the Variables we'll need:"
   ]
  },
  {
   "cell_type": "code",
   "execution_count": 50,
   "id": "ba6c91db",
   "metadata": {
    "collapsed": false,
    "jupyter": {
     "outputs_hidden": false
    }
   },
   "outputs": [],
   "source": [
    "from pyDatalog import pyDatalog\n",
    "pyDatalog.create_terms('X,Y,Z')"
   ]
  },
  {
   "cell_type": "markdown",
   "id": "ba465728",
   "metadata": {},
   "source": [
    "A loop can be created by using the ```.in()``` method (we'll see that there are other ways to create loops later):"
   ]
  },
  {
   "cell_type": "code",
   "execution_count": 59,
   "id": "7728a24e",
   "metadata": {
    "collapsed": false,
    "jupyter": {
     "outputs_hidden": false
    }
   },
   "outputs": [
    {
     "name": "stdout",
     "output_type": "stream",
     "text": [
      "X\n",
      "-\n",
      "4\n",
      "3\n",
      "2\n",
      "1\n",
      "0\n",
      "0\n",
      "1\n",
      "2\n",
      "3\n",
      "4\n"
     ]
    }
   ],
   "source": [
    "# give me all the X so that X is in the range 0..4\n",
    "print(X.in_((0,1,2,3,4)))\n",
    "\n",
    "# here is the procedural equivalent\n",
    "for x in range(5):\n",
    "    print(x)"
   ]
  },
  {
   "cell_type": "markdown",
   "id": "d6747a32",
   "metadata": {},
   "source": [
    "The result of a query is a set of its possible solutions, in random order.  Each solution has 1 value for each variable in the query.  The ```.data``` attribute gives access to the result."
   ]
  },
  {
   "cell_type": "code",
   "execution_count": 62,
   "id": "9c2cf780",
   "metadata": {
    "collapsed": false,
    "jupyter": {
     "outputs_hidden": false
    }
   },
   "outputs": [
    {
     "name": "stdout",
     "output_type": "stream",
     "text": [
      "[(4,), (3,), (2,), (1,), (0,)]\n",
      "True\n"
     ]
    }
   ],
   "source": [
    "print(X.in_(range(5)).data)\n",
    "print(X.in_(range(5)) == set([(0,), (1,), (2,), (3,), (4,)]))"
   ]
  },
  {
   "cell_type": "markdown",
   "id": "1b1c6489",
   "metadata": {},
   "source": [
    "Similarly, after a query, a variable contains a tuple of all its possible values.  They can be accessed with these methods :"
   ]
  },
  {
   "cell_type": "code",
   "execution_count": 64,
   "id": "2c348013",
   "metadata": {
    "collapsed": false,
    "jupyter": {
     "outputs_hidden": false
    }
   },
   "outputs": [
    {
     "name": "stdout",
     "output_type": "stream",
     "text": [
      "Data :  [4, 3, 2, 1, 0]\n",
      "First value :  4\n",
      "Extraction of first value of X:  4\n"
     ]
    }
   ],
   "source": [
    "print(\"Data : \",X.data)\n",
    "print(\"First value : \",  X.v())\n",
    "# below, '>=' is a variable extraction operator\n",
    "print(\"Extraction of first value of X: \", X.in_(range(5)) >= X)"
   ]
  },
  {
   "cell_type": "markdown",
   "id": "72e3cccd",
   "metadata": {},
   "source": [
    "The '&' operator can be used to filter the result."
   ]
  },
  {
   "cell_type": "code",
   "execution_count": 67,
   "id": "db1176ad",
   "metadata": {
    "collapsed": false,
    "jupyter": {
     "outputs_hidden": false
    }
   },
   "outputs": [
    {
     "name": "stdout",
     "output_type": "stream",
     "text": [
      "X\n",
      "-\n",
      "1\n",
      "0\n"
     ]
    }
   ],
   "source": [
    "# give me all X in range 0..4 that are below 2\n",
    "print(X.in_(range(5)) & (X<2))"
   ]
  },
  {
   "cell_type": "markdown",
   "id": "442a6a89",
   "metadata": {},
   "source": [
    "Loops can easily be nested.  Indentation helps reading them :"
   ]
  },
  {
   "cell_type": "code",
   "execution_count": 72,
   "id": "9f92b11f",
   "metadata": {
    "collapsed": false,
    "jupyter": {
     "outputs_hidden": false
    }
   },
   "outputs": [
    {
     "name": "stdout",
     "output_type": "stream",
     "text": [
      "X | Y | Z\n",
      "--|---|--\n",
      "2 | 0 | 2\n",
      "1 | 1 | 2\n",
      "1 | 0 | 1\n",
      "0 | 2 | 2\n",
      "0 | 1 | 1\n",
      "0 | 0 | 0\n"
     ]
    }
   ],
   "source": [
    "# give me all X, Y and Z so that X and Y are in 0..4, Z is their sum, and Z is below 3\n",
    "print(X.in_(range(5)) & Y.in_(range(5)) & (Z==X+Y) &  (Z<3))"
   ]
  },
  {
   "cell_type": "markdown",
   "id": "6bed6cf8",
   "metadata": {},
   "source": [
    "<h2>Logic Functions and dictionnaries</h2>\n",
    "As an example, we'll calculate the net salary of employee foo and bar."
   ]
  },
  {
   "cell_type": "code",
   "execution_count": 74,
   "id": "3f1d380a",
   "metadata": {
    "collapsed": false,
    "jupyter": {
     "outputs_hidden": false
    }
   },
   "outputs": [],
   "source": [
    "from pyDatalog import pyDatalog\n",
    "pyDatalog.create_terms('X,Y,Z, salary, tax_rate, tax_rate_for_salary_above, net_salary')"
   ]
  },
  {
   "cell_type": "markdown",
   "id": "0a997eaa",
   "metadata": {},
   "source": [
    "Notice that function names, such as ```salary```, starts with a lower case.\n",
    "\n",
    "A function defines one value for a given argument. It is similar to a python dictionary."
   ]
  },
  {
   "cell_type": "code",
   "execution_count": 77,
   "id": "42d3250b",
   "metadata": {
    "collapsed": false,
    "jupyter": {
     "outputs_hidden": false
    }
   },
   "outputs": [],
   "source": [
    "salary['foo'] = 60\n",
    "salary['bar'] = 110\n",
    "\n",
    "# Python equivalent\n",
    "_salary = dict()\n",
    "_salary['foo'] = 60\n",
    "_salary['bar'] = 110"
   ]
  },
  {
   "cell_type": "markdown",
   "id": "9d52c187",
   "metadata": {},
   "source": [
    "A function can be queried."
   ]
  },
  {
   "cell_type": "code",
   "execution_count": 80,
   "id": "0d7bd4c0",
   "metadata": {
    "collapsed": false,
    "jupyter": {
     "outputs_hidden": false
    }
   },
   "outputs": [
    {
     "name": "stdout",
     "output_type": "stream",
     "text": [
      "X   | Y  \n",
      "----|----\n",
      "bar | 110\n",
      "foo | 60 \n",
      "dict_items([('foo', 60), ('bar', 110)])\n"
     ]
    }
   ],
   "source": [
    "# give me all the X and Y so that the salary of X is Y\n",
    "print(salary[X]==Y)\n",
    "print\n",
    "# python equivalent\n",
    "print(_salary.items())"
   ]
  },
  {
   "cell_type": "markdown",
   "id": "ca092622",
   "metadata": {},
   "source": [
    "A function has only one value for a given argument."
   ]
  },
  {
   "cell_type": "code",
   "execution_count": 83,
   "id": "c131bd30",
   "metadata": {
    "collapsed": false,
    "jupyter": {
     "outputs_hidden": false
    }
   },
   "outputs": [
    {
     "name": "stdout",
     "output_type": "stream",
     "text": [
      "Y \n",
      "--\n",
      "70\n",
      "foo --> 70\n"
     ]
    }
   ],
   "source": [
    "# foo now has a salary of 70\n",
    "salary['foo'] = 70\n",
    "print(salary['foo']==Y)\n",
    "print\n",
    "\n",
    "# Python equivalent\n",
    "_salary['foo'] = 70\n",
    "print('foo --> ' + str(_salary['foo']))"
   ]
  },
  {
   "cell_type": "markdown",
   "id": "a0ffe4f1",
   "metadata": {},
   "source": [
    "A function can also be queried by value.  The following statement is shorter than its Python equivalent :"
   ]
  },
  {
   "cell_type": "code",
   "execution_count": 88,
   "id": "c1c12861",
   "metadata": {
    "collapsed": false,
    "jupyter": {
     "outputs_hidden": false
    }
   },
   "outputs": [
    {
     "name": "stdout",
     "output_type": "stream",
     "text": [
      "X  \n",
      "---\n",
      "bar\n",
      "bar --> 110\n"
     ]
    }
   ],
   "source": [
    "# give me all the X that have a salary of 110\n",
    "print(salary[X]==110)\n",
    "print\n",
    "\n",
    "# procedural equivalent in python\n",
    "for i, j in _salary.items():\n",
    "    if j==110:\n",
    "        print (i, '-->', j)"
   ]
  },
  {
   "cell_type": "markdown",
   "id": "65e3fdb6",
   "metadata": {},
   "source": [
    "Notice that there is a implicit loop in the query.\n",
    "\n",
    "A query can test the negation of a criteria."
   ]
  },
  {
   "cell_type": "code",
   "execution_count": 91,
   "id": "b32a1b84",
   "metadata": {
    "collapsed": false,
    "jupyter": {
     "outputs_hidden": false
    }
   },
   "outputs": [
    {
     "name": "stdout",
     "output_type": "stream",
     "text": [
      "X   | Y \n",
      "----|---\n",
      "foo | 70\n"
     ]
    }
   ],
   "source": [
    "print((salary[X]==Y) & ~(Y==110))"
   ]
  },
  {
   "cell_type": "markdown",
   "id": "8cfa6aba",
   "metadata": {},
   "source": [
    "Let's now define a global tax rate. We'll use ```None``` for the function argument:"
   ]
  },
  {
   "cell_type": "code",
   "execution_count": 94,
   "id": "f4a64823",
   "metadata": {
    "collapsed": false,
    "jupyter": {
     "outputs_hidden": false
    }
   },
   "outputs": [],
   "source": [
    "# the standard tax rate is 33%\n",
    "+(tax_rate[None]==0.33)"
   ]
  },
  {
   "cell_type": "markdown",
   "id": "aad989ef",
   "metadata": {},
   "source": [
    "A function can be called in a formula :"
   ]
  },
  {
   "cell_type": "code",
   "execution_count": 97,
   "id": "8248bafe",
   "metadata": {
    "collapsed": false,
    "jupyter": {
     "outputs_hidden": false
    }
   },
   "outputs": [
    {
     "name": "stdout",
     "output_type": "stream",
     "text": [
      "X   | Z                \n",
      "----|------------------\n",
      "foo | 46.89999999999999\n",
      "bar | 73.69999999999999\n"
     ]
    }
   ],
   "source": [
    "# give me the net salary for all X\n",
    "print((Z==salary[X]*(1-tax_rate[None])))"
   ]
  },
  {
   "cell_type": "markdown",
   "id": "0cbab5b9",
   "metadata": {},
   "source": [
    "In this case, X is bound by ```salary[X]```, so the expression can be evaluated.\n",
    "\n",
    "A function can also be defined by a clause. Here is a simple example:"
   ]
  },
  {
   "cell_type": "code",
   "execution_count": 100,
   "id": "ee165da3",
   "metadata": {
    "collapsed": false,
    "jupyter": {
     "outputs_hidden": false
    }
   },
   "outputs": [
    {
     "data": {
      "text/plain": [
       "<function print(*args, sep=' ', end='\\n', file=None, flush=False)>"
      ]
     },
     "execution_count": 100,
     "metadata": {},
     "output_type": "execute_result"
    }
   ],
   "source": [
    "# the net salary of X is Y if Y is the salary of X, reduced by the tax rate\n",
    "net_salary[X] = salary[X]*(1-tax_rate[None])\n",
    "print"
   ]
  },
  {
   "cell_type": "markdown",
   "id": "e6965379",
   "metadata": {},
   "source": [
    "The '```<=```' is the key token in the statement above : it is read 'if'."
   ]
  },
  {
   "cell_type": "code",
   "execution_count": 105,
   "id": "5a359f2c",
   "metadata": {
    "collapsed": false,
    "jupyter": {
     "outputs_hidden": false
    }
   },
   "outputs": [
    {
     "name": "stdout",
     "output_type": "stream",
     "text": [
      "X   | Y                \n",
      "----|------------------\n",
      "foo | 46.89999999999999\n",
      "bar | 73.69999999999999\n",
      "foo 46.89999999999999\n",
      "bar 73.69999999999999\n"
     ]
    }
   ],
   "source": [
    "# give me all the X and Y so that Y is the net salary of X\n",
    "print(net_salary[X]==Y)\n",
    "print\n",
    "\n",
    "# procedural equivalent in Python\n",
    "for i,j in _salary.items():\n",
    "    k = j*(1-0.33)\n",
    "    print (i, k)"
   ]
  },
  {
   "cell_type": "markdown",
   "id": "60c55946",
   "metadata": {},
   "source": [
    "Again, such a function can be queried by value.  As an excercice, you are invited to write the procedural equivalent of these queries."
   ]
  },
  {
   "cell_type": "code",
   "execution_count": 108,
   "id": "59bc5b74",
   "metadata": {
    "collapsed": false,
    "jupyter": {
     "outputs_hidden": false
    }
   },
   "outputs": [
    {
     "name": "stdout",
     "output_type": "stream",
     "text": [
      "Y                \n",
      "-----------------\n",
      "46.89999999999999\n",
      "Y  \n",
      "---\n",
      "foo\n"
     ]
    }
   ],
   "source": [
    "# give me the net salary of foo\n",
    "print(net_salary['foo']==Y)\n",
    "print\n",
    "print(net_salary[Y]<50)"
   ]
  },
  {
   "cell_type": "markdown",
   "id": "ed2ea6d3",
   "metadata": {},
   "source": [
    "Let's now define a progressive tax system: the tax rate is 33 % by default, but 50% for salaries above 100."
   ]
  },
  {
   "cell_type": "code",
   "execution_count": 111,
   "id": "3630fdae",
   "metadata": {
    "collapsed": false,
    "jupyter": {
     "outputs_hidden": false
    }
   },
   "outputs": [
    {
     "name": "stdout",
     "output_type": "stream",
     "text": [
      "Y   \n",
      "----\n",
      "0.33\n",
      "Y  \n",
      "---\n",
      "0.5\n"
     ]
    }
   ],
   "source": [
    "# the tax rate for salaries above 0 is 33%, and above 100 is 50 %\n",
    "(tax_rate_for_salary_above[X] == 0.33) <= (0 <= X)\n",
    "(tax_rate_for_salary_above[X] == 0.50) <= (100 <= X)\n",
    "print(tax_rate_for_salary_above[70]==Y)\n",
    "print\n",
    "print(tax_rate_for_salary_above[150]==Y)"
   ]
  },
  {
   "cell_type": "markdown",
   "id": "0847b6c5",
   "metadata": {},
   "source": [
    "Here, the most general definition of the function is given first.  When searching for possible answers, pyDatalog begins with the last rule defined, i.e. the more specific, and stops as soon as a valid answer is found for the function. So, even though the 2 rules seem to apply for a salary of 150, the second one is actually used to obtain 50 %\n",
    "\n",
    "Let's now redefine net salary.  Before we do, we need to retract our initial definition:"
   ]
  },
  {
   "cell_type": "code",
   "execution_count": 114,
   "id": "baeda1f3",
   "metadata": {
    "collapsed": false,
    "jupyter": {
     "outputs_hidden": false
    }
   },
   "outputs": [],
   "source": [
    "# retract our previous definition of net_salary\n",
    "del net_salary[X]"
   ]
  },
  {
   "cell_type": "markdown",
   "id": "fea5c439",
   "metadata": {},
   "source": [
    "Here is the new definition;"
   ]
  },
  {
   "cell_type": "code",
   "execution_count": 117,
   "id": "8e8533e0",
   "metadata": {
    "collapsed": false,
    "jupyter": {
     "outputs_hidden": false
    }
   },
   "outputs": [
    {
     "name": "stdout",
     "output_type": "stream",
     "text": [
      "X   | Y                \n",
      "----|------------------\n",
      "foo | 46.89999999999999\n",
      "bar | 55.0             \n"
     ]
    }
   ],
   "source": [
    "net_salary[X] = salary[X]*(1-tax_rate_for_salary_above[salary[X]])\n",
    "# give me all X and Y so that Y is the net salary of X\n",
    "print(net_salary[X]==Y)"
   ]
  },
  {
   "cell_type": "markdown",
   "id": "27820baa",
   "metadata": {},
   "source": [
    "Please note that we used ```f[X]=<expr>``` above, as a shorter notation for ```(f[X]==Y) <= (Y==expr)```"
   ]
  },
  {
   "cell_type": "markdown",
   "id": "cf9f6c71",
   "metadata": {},
   "source": [
    "This short notation, together with the fact that functions can be defined in any order, makes writing a pyDatalog program as easy as creating a spreadsheet.\n",
    "\n",
    "To illustrate the point, this definition of Factorial cannot be any clear !"
   ]
  },
  {
   "cell_type": "code",
   "execution_count": 121,
   "id": "b6d561ae",
   "metadata": {
    "collapsed": false,
    "jupyter": {
     "outputs_hidden": false
    }
   },
   "outputs": [
    {
     "name": "stdout",
     "output_type": "stream",
     "text": [
      "N\n",
      "-\n",
      "6\n"
     ]
    }
   ],
   "source": [
    "pyDatalog.create_terms('factorial, N')\n",
    "\n",
    "factorial[N] = N*factorial[N-1]\n",
    "factorial[1] = 1\n",
    "\n",
    "print(factorial[3]==N)"
   ]
  },
  {
   "cell_type": "markdown",
   "id": "46f872bf",
   "metadata": {},
   "source": [
    "<h2>Aggregate functions</h2>\n",
    "Aggregate functions are a special type of function.  Let's first create the data we need to illustrate them."
   ]
  },
  {
   "cell_type": "code",
   "execution_count": 124,
   "id": "abb04d7e",
   "metadata": {
    "collapsed": false,
    "jupyter": {
     "outputs_hidden": false
    }
   },
   "outputs": [],
   "source": [
    "from pyDatalog import pyDatalog\n",
    "pyDatalog.create_terms('X,Y,manager, count_of_direct_reports')"
   ]
  },
  {
   "cell_type": "code",
   "execution_count": 126,
   "id": "93782264",
   "metadata": {
    "collapsed": false,
    "jupyter": {
     "outputs_hidden": false
    }
   },
   "outputs": [],
   "source": [
    "# the manager of Mary is John\n",
    "+(manager['Mary'] == 'John')\n",
    "+(manager['Sam']  == 'Mary')\n",
    "+(manager['Tom']  == 'Mary')"
   ]
  },
  {
   "cell_type": "markdown",
   "id": "cd2f974b",
   "metadata": {},
   "source": [
    "A basic aggregation is to count the number of results, using <code>len_</code>."
   ]
  },
  {
   "cell_type": "code",
   "execution_count": 129,
   "id": "5dd25f9f",
   "metadata": {
    "collapsed": false,
    "jupyter": {
     "outputs_hidden": false
    }
   },
   "outputs": [
    {
     "name": "stdout",
     "output_type": "stream",
     "text": [
      "Y\n",
      "-\n",
      "2\n"
     ]
    }
   ],
   "source": [
    "(count_of_direct_reports[X]==len_(Y)) <= (manager[Y]==X)\n",
    "print(count_of_direct_reports['Mary']==Y)"
   ]
  },
  {
   "cell_type": "markdown",
   "id": "2a3e7d1f",
   "metadata": {},
   "source": [
    "pyDatalog searches all possible solutions for ```manager['Mary']==Y```, then counts the number of Y.\n",
    "\n",
    "The aggregate functions are:\n",
    "\n",
    "* __len\\___ <code>(P[X]==len_(Y)) <= body</code> : P[X] is the count of values of Y (associated to X by the body of the clause)\n",
    "* __sum\\___ <code>(P[X]==sum_(Y, for_each=Z)) <= body</code> : P[X] is the sum of Y for each Z. (Z is used to distinguish possibly identical Y values)\n",
    "* __min\\___, __max\\___ <code>(P[X]==min_(Y, order_by=Z)) <= body</code> : P[X] is the minimum (or maximum) of Y sorted by Z.\n",
    "* __tuple\\___ <code>(P[X]==tuple_(Y, order_by=Z)) <= body</code> : P[X] is a tuple containing all values of Y sorted by Z.\n",
    "* __concat\\___ <code>(P[X]==concat_(Y, order_by=Z, sep=',')) <= body</code> : same as 'sum' but for string. The strings are sorted by Z, and separated by ','.\n",
    "* __rank\\___ <code>(P[X]==rank_(for_each=Y, order_by=Z)) <= body</code> : P[X] is the sequence number of X in the list of Y values when the list is sorted by Z.\n",
    "* __running\\_sum\\___  <code>(P[X]==running\\_sum\\_(N, for_each=Y, order_by=Z)) <= body</code> : P[X] is the sum of  the values of N, for each Y that are before or equal to X when Y's are sorted by Z.\n"
   ]
  },
  {
   "cell_type": "markdown",
   "id": "674e3d85",
   "metadata": {},
   "source": [
    "<h2>Literals and sets</h2>\n",
    "Just as pyDatalog functions behave like Python dictionaries, pyDatalog literals behave like Python sets."
   ]
  },
  {
   "cell_type": "code",
   "execution_count": 133,
   "id": "ee1b6f51",
   "metadata": {
    "collapsed": false,
    "jupyter": {
     "outputs_hidden": false
    }
   },
   "outputs": [],
   "source": [
    "from pyDatalog import pyDatalog\n",
    "pyDatalog.create_terms('X,Y,Z, works_in, department_size, manager, indirect_manager, count_of_indirect_reports')"
   ]
  },
  {
   "cell_type": "markdown",
   "id": "cb526566",
   "metadata": {},
   "source": [
    "Here is how you add facts to the set."
   ]
  },
  {
   "cell_type": "code",
   "execution_count": 136,
   "id": "3b46cf03",
   "metadata": {
    "collapsed": false,
    "jupyter": {
     "outputs_hidden": false
    }
   },
   "outputs": [],
   "source": [
    "# Mary works in Production\n",
    "+ works_in('Mary', 'Production')\n",
    "+ works_in('Sam',  'Marketing')\n",
    "\n",
    "+ works_in('John', 'Production')\n",
    "+ works_in('John', 'Marketing')\n",
    "\n",
    "_works_in = set()\n",
    "_works_in.add(('Mary', 'Production'))\n",
    "_works_in.add(('Sam',  'Marketing'))\n",
    "_works_in.add(('John', 'Production'))\n",
    "_works_in.add(('John', 'Marketing'))"
   ]
  },
  {
   "cell_type": "markdown",
   "id": "88e578f7",
   "metadata": {},
   "source": [
    "Again, literals can be queried by value, in a way that is shorter than their Python equivalent."
   ]
  },
  {
   "cell_type": "code",
   "execution_count": 141,
   "id": "59432e78",
   "metadata": {
    "collapsed": false,
    "jupyter": {
     "outputs_hidden": false
    }
   },
   "outputs": [
    {
     "name": "stdout",
     "output_type": "stream",
     "text": [
      "X   \n",
      "----\n",
      "Sam \n",
      "John\n",
      "John\n",
      "Sam\n"
     ]
    }
   ],
   "source": [
    "# give me all the X that work in Marketing\n",
    "print(works_in(X,  'Marketing'))\n",
    "print\n",
    "\n",
    "# procedural equivalent in Python\n",
    "for i in _works_in:\n",
    "    if i[1]=='Marketing':\n",
    "        print (i[0])"
   ]
  },
  {
   "cell_type": "markdown",
   "id": "5a3f6655",
   "metadata": {},
   "source": [
    "Notice again that there is an implicit loop in the query.\n",
    "\n",
    "Literals can also be defined by clauses."
   ]
  },
  {
   "cell_type": "code",
   "execution_count": 144,
   "id": "c5c14691",
   "metadata": {
    "collapsed": false,
    "jupyter": {
     "outputs_hidden": false
    }
   },
   "outputs": [
    {
     "name": "stdout",
     "output_type": "stream",
     "text": [
      "X   \n",
      "----\n",
      "Mary\n",
      "John\n"
     ]
    }
   ],
   "source": [
    "# one of the indirect manager of X is Y, if the (direct) manager of X is Y\n",
    "indirect_manager(X,Y) <= (manager[X] == Y)\n",
    "# another indirect manager of X is Y, if there is a Z so that the manager of X is Z, \n",
    "#   and an indirect manager of Z is Y\n",
    "indirect_manager(X,Y) <= (manager[X] == Z) & indirect_manager(Z,Y)\n",
    "print(indirect_manager('Sam',X))"
   ]
  },
  {
   "cell_type": "markdown",
   "id": "aba59de7",
   "metadata": {},
   "source": [
    "Notice that the use of 2 separate clauses implements an implicit 'or'.\n",
    "\n",
    "When resolving queries, pyDatalog remembers intermediate results, by a process called [memoization](https://en.wikipedia.org/wiki/Memoization).  This makes resolution faster, but it also helps deal with infinite loops !"
   ]
  },
  {
   "cell_type": "code",
   "execution_count": 147,
   "id": "d3af18d2",
   "metadata": {
    "collapsed": false,
    "jupyter": {
     "outputs_hidden": false
    }
   },
   "outputs": [
    {
     "name": "stdout",
     "output_type": "stream",
     "text": [
      "X   \n",
      "----\n",
      "John\n",
      "Mary\n"
     ]
    }
   ],
   "source": [
    "# the manager of John is Mary (whose manager is John !)\n",
    "manager['John'] = 'Mary'\n",
    "\n",
    "print(indirect_manager('John',X))"
   ]
  },
  {
   "cell_type": "markdown",
   "id": "4e1ac5a7",
   "metadata": {},
   "source": [
    "This makes pyDatalog a great tool to implement recursive algorithms on complex data structures, e.g. representing networks.\n",
    "\n",
    "It's also possible to remove facts:"
   ]
  },
  {
   "cell_type": "code",
   "execution_count": 150,
   "id": "6fa76c64",
   "metadata": {
    "collapsed": false,
    "jupyter": {
     "outputs_hidden": false
    }
   },
   "outputs": [],
   "source": [
    "# John does not work in Production anymore\n",
    "- works_in('John', 'Production')"
   ]
  },
  {
   "cell_type": "markdown",
   "id": "398804c6",
   "metadata": {},
   "source": [
    "Aggregate functions can be defined on literals too :"
   ]
  },
  {
   "cell_type": "code",
   "execution_count": 153,
   "id": "e867f700",
   "metadata": {
    "collapsed": false,
    "jupyter": {
     "outputs_hidden": false
    }
   },
   "outputs": [
    {
     "name": "stdout",
     "output_type": "stream",
     "text": [
      "Y\n",
      "-\n",
      "4\n"
     ]
    }
   ],
   "source": [
    "(count_of_indirect_reports[X]==len_(Y)) <= indirect_manager(Y,X)\n",
    "print(count_of_indirect_reports['John']==Y)"
   ]
  },
  {
   "cell_type": "markdown",
   "id": "c20a550b",
   "metadata": {},
   "source": [
    "<h2>Tree, graphs and recursive algorithms</h2>\n",
    "Trees and graphs can be represented by the links between their nodes :"
   ]
  },
  {
   "cell_type": "code",
   "execution_count": 156,
   "id": "b7868a1b",
   "metadata": {
    "collapsed": false,
    "jupyter": {
     "outputs_hidden": false
    }
   },
   "outputs": [],
   "source": [
    "pyDatalog.create_terms('link, can_reach')\n",
    "\n",
    "# there is a link between node 1 and node 2\n",
    "+link(1,2)\n",
    "+link(2,3)\n",
    "+link(2,4)\n",
    "+link(2,5)\n",
    "+link(5,6)\n",
    "+link(6,7)\n",
    "+link(7,2)"
   ]
  },
  {
   "cell_type": "markdown",
   "id": "f3354431",
   "metadata": {},
   "source": [
    "This clause specifies that links are bidirectional:"
   ]
  },
  {
   "cell_type": "code",
   "execution_count": 159,
   "id": "22990e89",
   "metadata": {
    "collapsed": false,
    "jupyter": {
     "outputs_hidden": false
    }
   },
   "outputs": [
    {
     "data": {
      "text/plain": [
       "link(X,Y) <= link(Y,X)"
      ]
     },
     "execution_count": 159,
     "metadata": {},
     "output_type": "execute_result"
    }
   ],
   "source": [
    "# links are bi-directional\n",
    "link(X,Y) <= link(Y,X)"
   ]
  },
  {
   "cell_type": "markdown",
   "id": "7a1aaa42",
   "metadata": {},
   "source": [
    "The following 2 clauses explain how to determine if Y can be reached from X, using recursion."
   ]
  },
  {
   "cell_type": "code",
   "execution_count": 162,
   "id": "ed69058a",
   "metadata": {
    "collapsed": false,
    "jupyter": {
     "outputs_hidden": false
    }
   },
   "outputs": [
    {
     "name": "stdout",
     "output_type": "stream",
     "text": [
      "Y\n",
      "-\n",
      "2\n",
      "7\n",
      "4\n",
      "5\n",
      "3\n",
      "6\n"
     ]
    }
   ],
   "source": [
    "# can Y be reached from X ?\n",
    "can_reach(X,Y) <= link(X,Y) # direct link\n",
    "# via Z\n",
    "can_reach(X,Y) <= link(X,Z) & can_reach(Z,Y) & (X!=Y)\n",
    "\n",
    "print (can_reach(1,Y))"
   ]
  },
  {
   "cell_type": "markdown",
   "id": "d3ab7f91",
   "metadata": {},
   "source": [
    "Please note that pyDatalog is smart enough to resolve the query despite the facts that there are loops in the graph.  Because intermediate resolution steps are memoized, it re-uses previous results.  This helps improve speed of processing and avoid infinite loops.\n",
    "\n",
    "More example of graph algorithms are available in [this example](https://bitbucket.org/pcarbonn/pydatalog/src/c345dd482600a602412e223f9ef9757c7d9f2ad1/pyDatalog/examples/graph.py?at=default)."
   ]
  },
  {
   "cell_type": "markdown",
   "id": "704de496",
   "metadata": {},
   "source": [
    "<h2>8-queen puzzle</h2>\n",
    "\n",
    "By combining what we have seen so far, one can program the solution of complex problems in a declarative way, and let the computer find the procedure to solve them.\n",
    "\n",
    "As an example, let's program an efficient solution to the [8-queen puzzle](https://en.wikipedia.org/wiki/Eight_queens_puzzle).  A shorter solution for any N can be found [here](https://bitbucket.org/pcarbonn/pydatalog/src/d828a7120c9b796ae60f9006a0e3da58940eab37/pyDatalog/examples/queens_N.py?at=default)."
   ]
  },
  {
   "cell_type": "code",
   "execution_count": 166,
   "id": "5288e7c1",
   "metadata": {
    "collapsed": false,
    "jupyter": {
     "outputs_hidden": false
    }
   },
   "outputs": [
    {
     "data": {
      "text/plain": [
       "<function print(*args, sep=' ', end='\\n', file=None, flush=False)>"
      ]
     },
     "execution_count": 166,
     "metadata": {},
     "output_type": "execute_result"
    }
   ],
   "source": [
    "from pyDatalog import pyDatalog\n",
    "pyDatalog.create_terms('N,X0,X1,X2,X3,X4,X5,X6,X7')\n",
    "pyDatalog.create_terms('ok,queens,next_queen')\n",
    "\n",
    "# the queen in the first column can be in any row\n",
    "queens(X0)                      <= (X0._in(range(8)))\n",
    "\n",
    "# to find the queens in the first 2 columns, find the first one first, then find a second one\n",
    "queens(X0,X1)                   <= queens(X0)                   & next_queen(X0,X1)\n",
    "\n",
    "# repeat for the following queens\n",
    "queens(X0,X1,X2)                <= queens(X0,X1)                & next_queen(X0,X1,X2)\n",
    "queens(X0,X1,X2,X3)             <= queens(X0,X1,X2)             & next_queen(X0,X1,X2,X3)\n",
    "queens(X0,X1,X2,X3,X4)          <= queens(X0,X1,X2,X3)          & next_queen(X0,X1,X2,X3,X4)\n",
    "queens(X0,X1,X2,X3,X4,X5)       <= queens(X0,X1,X2,X3,X4)       & next_queen(X0,X1,X2,X3,X4,X5)\n",
    "queens(X0,X1,X2,X3,X4,X5,X6)    <= queens(X0,X1,X2,X3,X4,X5)    & next_queen(X0,X1,X2,X3,X4,X5,X6)\n",
    "queens(X0,X1,X2,X3,X4,X5,X6,X7) <= queens(X0,X1,X2,X3,X4,X5,X6) & next_queen(X0,X1,X2,X3,X4,X5,X6,X7)\n",
    "\n",
    "# the second queen can be in any row, provided it is compatible with the first one\n",
    "next_queen(X0,X1)                   <= queens(X1)                       & ok(X0,1,X1)\n",
    "\n",
    "# to find the third queen, first find a queen compatible with the second one, then with the first\n",
    "# re-use the previous clause for maximum speed, thanks to memoization\n",
    "next_queen(X0,X1,X2)                <= next_queen(X1,X2)                & ok(X0,2,X2)\n",
    "\n",
    "# repeat for all queens\n",
    "next_queen(X0,X1,X2,X3)             <= next_queen(X1,X2,X3)             & ok(X0,3,X3)\n",
    "next_queen(X0,X1,X2,X3,X4)          <= next_queen(X1,X2,X3,X4)          & ok(X0,4,X4)\n",
    "next_queen(X0,X1,X2,X3,X4,X5)       <= next_queen(X1,X2,X3,X4,X5)       & ok(X0,5,X5)\n",
    "next_queen(X0,X1,X2,X3,X4,X5,X6)    <= next_queen(X1,X2,X3,X4,X5,X6)    & ok(X0,6,X6)\n",
    "next_queen(X0,X1,X2,X3,X4,X5,X6,X7) <= next_queen(X1,X2,X3,X4,X5,X6,X7) & ok(X0,7,X7)\n",
    "\n",
    "# it's ok to have one queen in row X1 and another in row X2 if they are separated by N columns\n",
    "ok(X1, N, X2) <= (X1 != X2) & (X1 != X2+N) & (X1 != X2-N)\n",
    "print"
   ]
  },
  {
   "cell_type": "code",
   "execution_count": 46,
   "id": "1ae5d51d",
   "metadata": {
    "collapsed": false,
    "jupyter": {
     "outputs_hidden": false
    }
   },
   "outputs": [
    {
     "name": "stdout",
     "output_type": "stream",
     "text": [
      "(7, 3, 0, 2, 5, 1, 6, 4)\n"
     ]
    }
   ],
   "source": [
    "# give me one solution to the 8-queen puzzle\n",
    "print(queens(X0,X1,X2,X3,X4,X5,X6,X7).data[0])"
   ]
  }
 ],
 "metadata": {
  "kernelspec": {
   "display_name": "Python 3 (ipykernel)",
   "language": "python",
   "name": "python3"
  },
  "language_info": {
   "codemirror_mode": {
    "name": "ipython",
    "version": 3
   },
   "file_extension": ".py",
   "mimetype": "text/x-python",
   "name": "python",
   "nbconvert_exporter": "python",
   "pygments_lexer": "ipython3",
   "version": "3.12.4"
  }
 },
 "nbformat": 4,
 "nbformat_minor": 5
}

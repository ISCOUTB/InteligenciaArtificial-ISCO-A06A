{
 "cells": [
  {
   "cell_type": "code",
   "execution_count": null,
   "id": "0cbe2357-e8b4-46c1-b0ca-26dd4bf55486",
   "metadata": {},
   "outputs": [
    {
     "name": "stderr",
     "output_type": "stream",
     "text": [
      "Type exit() when done.\n"
     ]
    },
    {
     "name": "stdout",
     "output_type": "stream",
     "text": [
      "Y\n",
      "-\n",
      "6\n",
      "X   \n",
      "----\n",
      "Mary\n",
      "X   \n",
      "----\n",
      "John\n",
      "X  \n",
      "---\n",
      "Sam\n",
      "[]\n",
      "X   \n",
      "----\n",
      "John\n",
      "N    \n",
      "-----\n",
      "12200\n",
      "X  \n",
      "---\n",
      "Sam\n"
     ]
    },
    {
     "name": "stdin",
     "output_type": "stream",
     "text": [
      "pyDatalog>  4000\n",
      "pyDatalog>  Jhon\n",
      "pyDatalog>  done\n",
      "pyDatalog>  exit\n",
      "pyDatalog>  exit()\n"
     ]
    }
   ],
   "source": [
    "\"\"\"\n",
    "This file shows how to use pyDatalog using facts stored in datalog.\n",
    "\n",
    "It has 3 parts:\n",
    "    1. create facts for 2 employees in the datalog engine\n",
    "    2. define business rules\n",
    "    3. Query the datalog engine\n",
    "\"\"\"\n",
    "from pyDatalog import pyDatalog\n",
    "\n",
    "\"\"\" 1. create facts for 3 employees in the datalog engine \"\"\"\n",
    "pyDatalog.create_atoms('salary', 'manager')\n",
    "\n",
    "# John is the manager of Mary, who is the manager of Sam\n",
    "+ (salary['John'] == 6800)\n",
    "\n",
    "+ (manager['Mary'] == 'John')\n",
    "+ (salary['Mary'] == 6300)\n",
    "\n",
    "+ (manager['Sam'] == 'Mary')\n",
    "+ (salary['Sam'] == 5900)\n",
    "\n",
    "\"\"\" 2. define business rules \"\"\"\n",
    "pyDatalog.create_atoms('salary_class', 'indirect_manager', 'report_count', 'budget', 'lowest',\n",
    "                       'X', 'Y', 'Z', 'N')\n",
    "# the salary class of employee X is computed as a function of his/her salary\n",
    "salary_class[X] = salary[X]//1000\n",
    "    \n",
    "# all the indirect managers of employee X are derived from his manager, recursively\n",
    "indirect_manager(X,Y) <= (manager[X] == Y) & (Y != None)\n",
    "indirect_manager(X,Y) <= (manager[X] == Z) & indirect_manager(Z,Y) & (Y != None)\n",
    "\n",
    "# count the number of reports of X\n",
    "(report_count[X] == len_(Y)) <= indirect_manager(Y,X)\n",
    "\n",
    "\"\"\" 3. Query the datalog engine \"\"\"\n",
    "\n",
    "# what is the salary class of John ?\n",
    "print(salary_class['John'] == Y) # Y is 6\n",
    "\n",
    "# who has a salary of 6300 ?\n",
    "print(salary[X] == 6300) # X is Mary\n",
    "\n",
    "# who are the indirect managers of Mary ?\n",
    "print(indirect_manager('Mary', X)) # X is John\n",
    "\n",
    "# Who are the employees of John with a salary below 6000 ?\n",
    "print((salary[X] < 6000) & indirect_manager(X, 'John')) # X is Sam\n",
    "\n",
    "# who is his own indirect manager ?\n",
    "print(indirect_manager('X', X)) # prints []\n",
    "\n",
    "# who has 2 reports ?\n",
    "print(report_count[X] == 2) # X is John\n",
    "\n",
    "# what is the total salary of the employees of John ? \n",
    "(budget[X] == sum_(N, for_each=Y)) <= (indirect_manager(Y, X)) & (salary[Y]==N)\n",
    "print(budget['John']==N) # N is 12200\n",
    "\n",
    "# who has the lowest salary ?\n",
    "(lowest[1] == min_(X, order_by=N)) <= (salary[X]==N)\n",
    "print(lowest[1]==X) # X is Sam\n",
    "\n",
    "# start the datalog console, for interactive querying \n",
    "from pyDatalog.examples import console\n",
    "console = console.datalogConsole(locals=locals())\n",
    "console.interact('Type exit() when done.')\n",
    "\n"
   ]
  },
  {
   "cell_type": "code",
   "execution_count": null,
   "id": "630e04bf-4d69-4073-8c17-2f767d1c1776",
   "metadata": {},
   "outputs": [],
   "source": []
  }
 ],
 "metadata": {
  "kernelspec": {
   "display_name": "Python 3 (ipykernel)",
   "language": "python",
   "name": "python3"
  },
  "language_info": {
   "codemirror_mode": {
    "name": "ipython",
    "version": 3
   },
   "file_extension": ".py",
   "mimetype": "text/x-python",
   "name": "python",
   "nbconvert_exporter": "python",
   "pygments_lexer": "ipython3",
   "version": "3.12.4"
  }
 },
 "nbformat": 4,
 "nbformat_minor": 5
}

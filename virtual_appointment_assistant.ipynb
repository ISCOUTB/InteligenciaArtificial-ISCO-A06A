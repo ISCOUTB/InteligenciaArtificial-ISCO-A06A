{
 "cells": [
  {
   "cell_type": "code",
   "execution_count": 29,
   "id": "initial_id",
   "metadata": {
    "ExecuteTime": {
     "end_time": "2024-03-02T00:52:54.400877Z",
     "start_time": "2024-03-02T00:52:53.699933Z"
    }
   },
   "outputs": [],
   "source": [
    "from pyDatalog import pyDatalog"
   ]
  },
  {
   "cell_type": "code",
   "execution_count": 39,
   "id": "4b4fdf082fa2636",
   "metadata": {},
   "outputs": [],
   "source": [
    "pyDatalog.create_terms('Usuario,Anfitrion,Fecha,Hora,Calendario,Canal')"
   ]
  },
  {
   "cell_type": "code",
   "execution_count": 49,
   "id": "0bc3a383",
   "metadata": {},
   "outputs": [
    {
     "name": "stdout",
     "output_type": "stream",
     "text": [
      "Usuario\n",
      "-------\n",
      "Edwin  \n"
     ]
    }
   ],
   "source": [
    "print(Usuario==\"Edwin\")"
   ]
  },
  {
   "cell_type": "code",
   "execution_count": 50,
   "id": "5906b737",
   "metadata": {},
   "outputs": [
    {
     "name": "stdout",
     "output_type": "stream",
     "text": [
      "Anfitrion\n",
      "---------\n",
      "Pepito   \n"
     ]
    }
   ],
   "source": [
    "print(Anfitrion== \"Pepito\")"
   ]
  },
  {
   "cell_type": "code",
   "execution_count": 51,
   "id": "e597f857",
   "metadata": {},
   "outputs": [
    {
     "name": "stdout",
     "output_type": "stream",
     "text": [
      "Fecha\n",
      "-----\n",
      "True \n"
     ]
    }
   ],
   "source": [
    "print(Fecha==True )"
   ]
  },
  {
   "cell_type": "code",
   "execution_count": 52,
   "id": "f8ba528d",
   "metadata": {},
   "outputs": [
    {
     "data": {
      "text/plain": [
       "[(True,)]"
      ]
     },
     "execution_count": 52,
     "metadata": {},
     "output_type": "execute_result"
    }
   ],
   "source": [
    "Hora==True"
   ]
  },
  {
   "cell_type": "code",
   "execution_count": 48,
   "id": "13be7c41",
   "metadata": {},
   "outputs": [
    {
     "ename": "AttributeError",
     "evalue": "Predicate without definition (or error in resolver): Calendario[1]==/3",
     "output_type": "error",
     "traceback": [
      "\u001b[1;31m---------------------------------------------------------------------------\u001b[0m",
      "\u001b[1;31mAttributeError\u001b[0m                            Traceback (most recent call last)",
      "Cell \u001b[1;32mIn[48], line 1\u001b[0m\n\u001b[1;32m----> 1\u001b[0m \u001b[38;5;28mprint\u001b[39m(Calendario[Fecha]\u001b[38;5;241m==\u001b[39mHora)\n",
      "File \u001b[1;32mC:\\anaconda3\\Lib\\site-packages\\pyDatalog\\pyParser.py:134\u001b[0m, in \u001b[0;36mLazyListOfList.__str__\u001b[1;34m(self)\u001b[0m\n\u001b[0;32m    133\u001b[0m \u001b[38;5;28;01mdef\u001b[39;00m \u001b[38;5;21m__str__\u001b[39m(\u001b[38;5;28mself\u001b[39m):\n\u001b[1;32m--> 134\u001b[0m     \u001b[38;5;28;01mreturn\u001b[39;00m util\u001b[38;5;241m.\u001b[39mcast_to_str(\u001b[38;5;28mself\u001b[39m\u001b[38;5;241m.\u001b[39m__unicode__())\n",
      "File \u001b[1;32mC:\\anaconda3\\Lib\\site-packages\\pyDatalog\\pyParser.py:604\u001b[0m, in \u001b[0;36mQuery.__unicode__\u001b[1;34m(self)\u001b[0m\n\u001b[0;32m    603\u001b[0m \u001b[38;5;28;01mdef\u001b[39;00m \u001b[38;5;21m__unicode__\u001b[39m(\u001b[38;5;28mself\u001b[39m):\n\u001b[1;32m--> 604\u001b[0m     \u001b[38;5;28;01mreturn\u001b[39;00m LazyListOfList\u001b[38;5;241m.\u001b[39m__unicode__(\u001b[38;5;28mself\u001b[39m)\n",
      "File \u001b[1;32mC:\\anaconda3\\Lib\\site-packages\\pyDatalog\\pyParser.py:118\u001b[0m, in \u001b[0;36mLazyListOfList.__unicode__\u001b[1;34m(self)\u001b[0m\n\u001b[0;32m    116\u001b[0m \u001b[38;5;28;01mdef\u001b[39;00m \u001b[38;5;21m__unicode__\u001b[39m(\u001b[38;5;28mself\u001b[39m):\n\u001b[0;32m    117\u001b[0m \u001b[38;5;250m    \u001b[39m\u001b[38;5;124;03m\"\"\" pretty print the result \"\"\"\u001b[39;00m\n\u001b[1;32m--> 118\u001b[0m     \u001b[38;5;28;01mif\u001b[39;00m \u001b[38;5;28mself\u001b[39m\u001b[38;5;241m.\u001b[39mdata \u001b[38;5;129;01min\u001b[39;00m (\u001b[38;5;28;01mTrue\u001b[39;00m, [], [()]): \u001b[38;5;28;01mreturn\u001b[39;00m util\u001b[38;5;241m.\u001b[39municode_type(\u001b[38;5;28mself\u001b[39m\u001b[38;5;241m.\u001b[39m_data)\n\u001b[0;32m    119\u001b[0m     \u001b[38;5;66;03m# get the widths of each column\u001b[39;00m\n\u001b[0;32m    120\u001b[0m     widths \u001b[38;5;241m=\u001b[39m [\u001b[38;5;28mmax\u001b[39m(\u001b[38;5;28mlen\u001b[39m(util\u001b[38;5;241m.\u001b[39municode_type(x)) \u001b[38;5;28;01mfor\u001b[39;00m x \u001b[38;5;129;01min\u001b[39;00m column) \u001b[38;5;28;01mfor\u001b[39;00m column \u001b[38;5;129;01min\u001b[39;00m \u001b[38;5;28mzip\u001b[39m(\u001b[38;5;241m*\u001b[39m(\u001b[38;5;28mself\u001b[39m\u001b[38;5;241m.\u001b[39m_data))]\n",
      "File \u001b[1;32mC:\\anaconda3\\Lib\\site-packages\\pyDatalog\\pyParser.py:93\u001b[0m, in \u001b[0;36mLazyList.data\u001b[1;34m(self)\u001b[0m\n\u001b[0;32m     91\u001b[0m \u001b[38;5;28;01mif\u001b[39;00m \u001b[38;5;28mself\u001b[39m\u001b[38;5;241m.\u001b[39mtodo \u001b[38;5;129;01mis\u001b[39;00m \u001b[38;5;129;01mnot\u001b[39;00m \u001b[38;5;28;01mNone\u001b[39;00m:\n\u001b[0;32m     92\u001b[0m     \u001b[38;5;28mself\u001b[39m\u001b[38;5;241m.\u001b[39mvariables \u001b[38;5;241m=\u001b[39m \u001b[38;5;28mtuple\u001b[39m(\u001b[38;5;28mself\u001b[39m\u001b[38;5;241m.\u001b[39mtodo\u001b[38;5;241m.\u001b[39m_variables()\u001b[38;5;241m.\u001b[39mkeys()) \n\u001b[1;32m---> 93\u001b[0m     \u001b[38;5;28mself\u001b[39m\u001b[38;5;241m.\u001b[39mtodo\u001b[38;5;241m.\u001b[39mask()\n\u001b[0;32m     94\u001b[0m \u001b[38;5;28;01mreturn\u001b[39;00m \u001b[38;5;28mself\u001b[39m\u001b[38;5;241m.\u001b[39m_data\n",
      "File \u001b[1;32mC:\\anaconda3\\Lib\\site-packages\\pyDatalog\\pyParser.py:577\u001b[0m, in \u001b[0;36mQuery.ask\u001b[1;34m(self)\u001b[0m\n\u001b[0;32m    576\u001b[0m \u001b[38;5;28;01mdef\u001b[39;00m \u001b[38;5;21mask\u001b[39m(\u001b[38;5;28mself\u001b[39m):\n\u001b[1;32m--> 577\u001b[0m     \u001b[38;5;28mself\u001b[39m\u001b[38;5;241m.\u001b[39m_data \u001b[38;5;241m=\u001b[39m Body(\u001b[38;5;28mself\u001b[39m\u001b[38;5;241m.\u001b[39mpre_calculations, \u001b[38;5;28mself\u001b[39m)\u001b[38;5;241m.\u001b[39mask()\n\u001b[0;32m    578\u001b[0m     \u001b[38;5;28mself\u001b[39m\u001b[38;5;241m.\u001b[39mtodo \u001b[38;5;241m=\u001b[39m \u001b[38;5;28;01mNone\u001b[39;00m\n\u001b[0;32m    579\u001b[0m     \u001b[38;5;28;01mreturn\u001b[39;00m \u001b[38;5;28mself\u001b[39m\u001b[38;5;241m.\u001b[39m_data\n",
      "File \u001b[1;32mC:\\anaconda3\\Lib\\site-packages\\pyDatalog\\pyParser.py:693\u001b[0m, in \u001b[0;36mBody.ask\u001b[1;34m(self)\u001b[0m\n\u001b[0;32m    691\u001b[0m \u001b[38;5;250m\u001b[39m\u001b[38;5;124;03m\"\"\" resolve the query and determine the values of its variables\"\"\"\u001b[39;00m\n\u001b[0;32m    692\u001b[0m literal \u001b[38;5;241m=\u001b[39m \u001b[38;5;28mself\u001b[39m\u001b[38;5;241m.\u001b[39mliteral()\n\u001b[1;32m--> 693\u001b[0m \u001b[38;5;28mself\u001b[39m\u001b[38;5;241m.\u001b[39m_data \u001b[38;5;241m=\u001b[39m literal\u001b[38;5;241m.\u001b[39mlua\u001b[38;5;241m.\u001b[39mask()\n\u001b[0;32m    694\u001b[0m literal\u001b[38;5;241m.\u001b[39mtodo, \u001b[38;5;28mself\u001b[39m\u001b[38;5;241m.\u001b[39mtodo \u001b[38;5;241m=\u001b[39m \u001b[38;5;28;01mNone\u001b[39;00m, \u001b[38;5;28;01mNone\u001b[39;00m\n\u001b[0;32m    695\u001b[0m \u001b[38;5;241m-\u001b[39m (literal \u001b[38;5;241m<\u001b[39m\u001b[38;5;241m=\u001b[39m \u001b[38;5;28mself\u001b[39m) \u001b[38;5;66;03m# delete the temporary clause\u001b[39;00m\n",
      "File \u001b[1;32mC:\\anaconda3\\Lib\\site-packages\\pyDatalog\\pyEngine.py:513\u001b[0m, in \u001b[0;36mLiteral.ask\u001b[1;34m(self)\u001b[0m\n\u001b[0;32m    511\u001b[0m todo, arg \u001b[38;5;241m=\u001b[39m (SEARCH, (Ts\u001b[38;5;241m.\u001b[39mGoal, ))\n\u001b[0;32m    512\u001b[0m \u001b[38;5;28;01mwhile\u001b[39;00m todo:\n\u001b[1;32m--> 513\u001b[0m     todo, arg \u001b[38;5;241m=\u001b[39m todo(\u001b[38;5;241m*\u001b[39marg)\n\u001b[0;32m    515\u001b[0m \u001b[38;5;28;01mif\u001b[39;00m Ts\u001b[38;5;241m.\u001b[39mGoal\u001b[38;5;241m.\u001b[39mfacts \u001b[38;5;129;01mis\u001b[39;00m \u001b[38;5;28;01mTrue\u001b[39;00m:\n\u001b[0;32m    516\u001b[0m     \u001b[38;5;28;01mreturn\u001b[39;00m \u001b[38;5;28;01mTrue\u001b[39;00m\n",
      "File \u001b[1;32mC:\\anaconda3\\Lib\\site-packages\\pyDatalog\\pyEngine.py:812\u001b[0m, in \u001b[0;36mSubgoal.search\u001b[1;34m(self)\u001b[0m\n\u001b[0;32m    808\u001b[0m         \u001b[38;5;28;01mraise\u001b[39;00m util\u001b[38;5;241m.\u001b[39mDatalogError(\u001b[38;5;124m\"\u001b[39m\u001b[38;5;124mError: right hand side of comparison must be bound: \u001b[39m\u001b[38;5;132;01m%s\u001b[39;00m\u001b[38;5;124m\"\u001b[39m \n\u001b[0;32m    809\u001b[0m                             \u001b[38;5;241m%\u001b[39m literal\u001b[38;5;241m.\u001b[39mpred\u001b[38;5;241m.\u001b[39mid, \u001b[38;5;28;01mNone\u001b[39;00m, \u001b[38;5;28;01mNone\u001b[39;00m)\n\u001b[0;32m    810\u001b[0m     \u001b[38;5;28;01mreturn\u001b[39;00m \u001b[38;5;28mself\u001b[39m\u001b[38;5;241m.\u001b[39mnext_step()\n\u001b[1;32m--> 812\u001b[0m \u001b[38;5;28;01mraise\u001b[39;00m \u001b[38;5;167;01mAttributeError\u001b[39;00m(\u001b[38;5;124m\"\u001b[39m\u001b[38;5;124mPredicate without definition (or error in resolver): \u001b[39m\u001b[38;5;132;01m%s\u001b[39;00m\u001b[38;5;124m\"\u001b[39m \u001b[38;5;241m%\u001b[39m literal\u001b[38;5;241m.\u001b[39mpred\u001b[38;5;241m.\u001b[39mid)\n",
      "\u001b[1;31mAttributeError\u001b[0m: Predicate without definition (or error in resolver): Calendario[1]==/3"
     ]
    }
   ],
   "source": [
    "print(Calendario[Fecha]==Hora)"
   ]
  },
  {
   "cell_type": "code",
   "execution_count": 43,
   "id": "8aa594a9",
   "metadata": {},
   "outputs": [
    {
     "ename": "DatalogError",
     "evalue": "Cannot assert a fact containing Variables\nin line None of None",
     "output_type": "error",
     "traceback": [
      "\u001b[1;31m---------------------------------------------------------------------------\u001b[0m",
      "\u001b[1;31mDatalogError\u001b[0m                              Traceback (most recent call last)",
      "Cell \u001b[1;32mIn[43], line 2\u001b[0m\n\u001b[0;32m      1\u001b[0m \u001b[38;5;66;03m# Reglas para validar la entrada del usuario y crear un calendario para el anfitrión\u001b[39;00m\n\u001b[1;32m----> 2\u001b[0m \u001b[38;5;241m+\u001b[39m(Calendario[Anfitrion\u001b[38;5;241m.\u001b[39mnombre, Anfitrion\u001b[38;5;241m.\u001b[39mapellido] \u001b[38;5;241m==\u001b[39m \u001b[38;5;28;01mTrue\u001b[39;00m)\n",
      "File \u001b[1;32mC:\\anaconda3\\Lib\\site-packages\\pyDatalog\\pyParser.py:584\u001b[0m, in \u001b[0;36mQuery.__pos__\u001b[1;34m(self)\u001b[0m\n\u001b[0;32m    582\u001b[0m \u001b[38;5;124m\"\u001b[39m\u001b[38;5;124m unary + means insert into database as fact \u001b[39m\u001b[38;5;124m\"\u001b[39m\n\u001b[0;32m    583\u001b[0m \u001b[38;5;28;01mif\u001b[39;00m \u001b[38;5;28mself\u001b[39m\u001b[38;5;241m.\u001b[39m_variables():\n\u001b[1;32m--> 584\u001b[0m     \u001b[38;5;28;01mraise\u001b[39;00m util\u001b[38;5;241m.\u001b[39mDatalogError(\u001b[38;5;124m\"\u001b[39m\u001b[38;5;124mCannot assert a fact containing Variables\u001b[39m\u001b[38;5;124m\"\u001b[39m, \u001b[38;5;28;01mNone\u001b[39;00m, \u001b[38;5;28;01mNone\u001b[39;00m)\n\u001b[0;32m    585\u001b[0m clause \u001b[38;5;241m=\u001b[39m pyEngine\u001b[38;5;241m.\u001b[39mClause(\u001b[38;5;28mself\u001b[39m\u001b[38;5;241m.\u001b[39mlua, [])\n\u001b[0;32m    586\u001b[0m pyEngine\u001b[38;5;241m.\u001b[39massert_(clause)\n",
      "\u001b[1;31mDatalogError\u001b[0m: Cannot assert a fact containing Variables\nin line None of None"
     ]
    }
   ],
   "source": [
    "# Reglas para validar la entrada del usuario y crear un calendario para el anfitrión\n",
    "+(Calendario[Anfitrion.nombre, Anfitrion.apellido] == True)"
   ]
  },
  {
   "cell_type": "code",
   "execution_count": null,
   "id": "cff18ee3",
   "metadata": {},
   "outputs": [],
   "source": []
  }
 ],
 "metadata": {
  "kernelspec": {
   "display_name": "Python 3 (ipykernel)",
   "language": "python",
   "name": "python3"
  },
  "language_info": {
   "codemirror_mode": {
    "name": "ipython",
    "version": 3
   },
   "file_extension": ".py",
   "mimetype": "text/x-python",
   "name": "python",
   "nbconvert_exporter": "python",
   "pygments_lexer": "ipython3",
   "version": "3.11.7"
  }
 },
 "nbformat": 4,
 "nbformat_minor": 5
}
